{
 "cells": [
  {
   "cell_type": "code",
   "execution_count": 2,
   "metadata": {},
   "outputs": [
    {
     "name": "stdout",
     "output_type": "stream",
     "text": [
      "GTX 1050\n",
      "GTX 1080\n",
      "RTX 3060\n"
     ]
    }
   ],
   "source": [
    "placas_de_videos = [\"GTX 1050\", \"GTX 1080\", \"RTX 3060\"]\n",
    "\n",
    "for placa in placas_de_videos:\n",
    "    print(placa)"
   ]
  },
  {
   "cell_type": "code",
   "execution_count": 6,
   "metadata": {},
   "outputs": [
    {
     "name": "stdout",
     "output_type": "stream",
     "text": [
      "8\n",
      "4\n",
      "3\n",
      "6\n"
     ]
    }
   ],
   "source": [
    "lista = [1, 4, 5, 6, 8, 4, 3, 6, 7, 2]\n",
    "lista[4:8]\n",
    "\n",
    "for i in lista[4:8]:\n",
    "    print(i)"
   ]
  },
  {
   "cell_type": "code",
   "execution_count": 13,
   "metadata": {},
   "outputs": [
    {
     "data": {
      "text/plain": [
       "[1, 2, 3, 4, 5, 6, 7, 8, 9]"
      ]
     },
     "execution_count": 13,
     "metadata": {},
     "output_type": "execute_result"
    }
   ],
   "source": [
    "list(range(1,10))"
   ]
  },
  {
   "cell_type": "code",
   "execution_count": 18,
   "metadata": {},
   "outputs": [
    {
     "name": "stdout",
     "output_type": "stream",
     "text": [
      "100\n",
      "200\n",
      "300\n",
      "400\n",
      "500\n",
      "600\n",
      "700\n",
      "800\n",
      "900\n",
      "0\n",
      "1\n",
      "2\n",
      "3\n",
      "4\n",
      "5\n",
      "6\n",
      "7\n",
      "8\n"
     ]
    }
   ],
   "source": [
    "lista_nums = [100, 200, 300, 400, 500, 600, 700, 800, 900]\n",
    "for elemento in lista_nums:\n",
    "    print(elemento)\n",
    "\n",
    "for indice in range(len(lista_nums)):\n",
    "    print(indice)"
   ]
  },
  {
   "cell_type": "code",
   "execution_count": 23,
   "metadata": {},
   "outputs": [
    {
     "name": "stdout",
     "output_type": "stream",
     "text": [
      "Lista[ 0 ]= 100\n",
      "Lista[ 1 ]= 200\n",
      "Lista[ 2 ]= 300\n",
      "Lista[ 3 ]= 400\n",
      "Lista[ 4 ]= 500\n",
      "Lista[ 5 ]= 600\n",
      "Lista[ 6 ]= 700\n",
      "Lista[ 7 ]= 800\n",
      "Lista[ 8 ]= 900\n"
     ]
    }
   ],
   "source": [
    "lista_num = [100, 200, 300, 400, 500]\n",
    "for indice, valor in enumerate(lista_nums):\n",
    "    print(\"Lista[\", indice, \"]=\", valor)"
   ]
  },
  {
   "cell_type": "code",
   "execution_count": 34,
   "metadata": {},
   "outputs": [
    {
     "data": {
      "text/plain": [
       "20"
      ]
     },
     "execution_count": 34,
     "metadata": {},
     "output_type": "execute_result"
    }
   ],
   "source": [
    "dicionario_pessoas_idades = {\"Daniel\":20, \"Ana\":24}\n",
    "dicionario_pessoas_idades[\"Ana\"]\n",
    "dicionario_pessoas_idades[\"Daniel\"]"
   ]
  },
  {
   "cell_type": "code",
   "execution_count": 43,
   "metadata": {},
   "outputs": [
    {
     "name": "stdout",
     "output_type": "stream",
     "text": [
      "p\n",
      "y\n",
      "t\n",
      "h\n",
      "o\n",
      "n\n",
      "is\n",
      "1\n",
      "2\n",
      "3\n",
      "4\n",
      "5\n",
      "6\n",
      "600\n"
     ]
    }
   ],
   "source": [
    "dicionario_python = {\"p\":1, \"y\":2, \"t\":3, \"h\":4, \"o\":5, \"n\":6}\n",
    "dicionario_python[\"is\"] = 7\n",
    "dicionario_python\n",
    "dicionario_python[\"fun\"] = 8\n",
    "dicionario_python\n",
    "del dicionario_python[\"fun\"]\n",
    "dicionario_python\n",
    "dicionario_python[\"is\"] = 600\n",
    "dicionario_python\n",
    "for e in dicionario_python:\n",
    "    print(e)\n",
    "for e in dicionario_python.values():\n",
    "    print(e)"
   ]
  },
  {
   "cell_type": "code",
   "execution_count": 45,
   "metadata": {},
   "outputs": [
    {
     "name": "stdout",
     "output_type": "stream",
     "text": [
      "OrderedDict([('bruna', 10), ('jessica', 4), ('luana', 7), ('lucas', 5), ('maria', 9), ('mariana', 4), ('paulo', 5), ('saraa', 3), ('saulo', 5)])\n"
     ]
    }
   ],
   "source": [
    "alunos = {\"lucas\":5, \"maria\":9, \"luana\":7, \"paulo\":5, \"bruna\":10, \"mariana\":4, \"saraa\":3, \"saulo\":5, \"jessica\":4}\n",
    "from collections import OrderedDict\n",
    "alunos_ordenados = OrderedDict(sorted(alunos.items()))\n",
    "print(alunos_ordenados)"
   ]
  },
  {
   "cell_type": "code",
   "execution_count": 47,
   "metadata": {},
   "outputs": [
    {
     "name": "stdout",
     "output_type": "stream",
     "text": [
      "7\n"
     ]
    }
   ],
   "source": [
    "number = [0,3,8,7]\n",
    "print(number[3])"
   ]
  },
  {
   "cell_type": "code",
   "execution_count": 53,
   "metadata": {},
   "outputs": [
    {
     "name": "stdout",
     "output_type": "stream",
     "text": [
      "Não é igual\n",
      "É igual\n"
     ]
    }
   ],
   "source": [
    "minhabool = True\n",
    "minhabool\n",
    "type(minhabool)\n",
    "minhabool = 1==5\n",
    "minhabool\n",
    "\n",
    "if 1 == 5:\n",
    "    print(\"É igual\")\n",
    "else:\n",
    "    print(\"Não é igual\")\n",
    "\n",
    "if 2 == 5:\n",
    "    print(\"É igual\")\n",
    "elif 2 == 2:\n",
    "    print(\"É igual\")"
   ]
  },
  {
   "cell_type": "code",
   "execution_count": 54,
   "metadata": {},
   "outputs": [
    {
     "data": {
      "text/plain": [
       "False"
      ]
     },
     "execution_count": 54,
     "metadata": {},
     "output_type": "execute_result"
    }
   ],
   "source": [
    "1 == 2"
   ]
  },
  {
   "cell_type": "code",
   "execution_count": 55,
   "metadata": {},
   "outputs": [
    {
     "data": {
      "text/plain": [
       "False"
      ]
     },
     "execution_count": 55,
     "metadata": {},
     "output_type": "execute_result"
    }
   ],
   "source": [
    "7 > 8"
   ]
  },
  {
   "cell_type": "code",
   "execution_count": 56,
   "metadata": {},
   "outputs": [
    {
     "data": {
      "text/plain": [
       "True"
      ]
     },
     "execution_count": 56,
     "metadata": {},
     "output_type": "execute_result"
    }
   ],
   "source": [
    "8 <= 9"
   ]
  },
  {
   "cell_type": "code",
   "execution_count": 57,
   "metadata": {},
   "outputs": [
    {
     "data": {
      "text/plain": [
       "False"
      ]
     },
     "execution_count": 57,
     "metadata": {},
     "output_type": "execute_result"
    }
   ],
   "source": [
    "0 >= 7"
   ]
  },
  {
   "cell_type": "code",
   "execution_count": 58,
   "metadata": {},
   "outputs": [
    {
     "data": {
      "text/plain": [
       "True"
      ]
     },
     "execution_count": 58,
     "metadata": {},
     "output_type": "execute_result"
    }
   ],
   "source": [
    "3 != 4"
   ]
  },
  {
   "cell_type": "code",
   "execution_count": 60,
   "metadata": {},
   "outputs": [
    {
     "name": "stdout",
     "output_type": "stream",
     "text": [
      "É diferente\n",
      "False\n"
     ]
    }
   ],
   "source": [
    "if \"Manoela\" != \"Mariana\":\n",
    "    print(\"É diferente\")\n",
    "    print(\"False\")"
   ]
  },
  {
   "cell_type": "code",
   "execution_count": 67,
   "metadata": {},
   "outputs": [
    {
     "name": "stdout",
     "output_type": "stream",
     "text": [
      "Entrou..\n"
     ]
    }
   ],
   "source": [
    "nome = input(\"Insira seu nome: \").lower()\n",
    "if nome == \"daniel\":\n",
    "    print(\"Entrou..\")\n",
    "else:\n",
    "    print(\"Negado..\")"
   ]
  },
  {
   "cell_type": "code",
   "execution_count": 69,
   "metadata": {},
   "outputs": [
    {
     "name": "stdout",
     "output_type": "stream",
     "text": [
      "Fico em casa!\n"
     ]
    }
   ],
   "source": [
    "chuva = True\n",
    "vento = True\n",
    "\n",
    "if chuva and vento:\n",
    "    print(\"Fico em casa!\")\n",
    "else:\n",
    "    print(\"Rua\")"
   ]
  },
  {
   "cell_type": "code",
   "execution_count": 74,
   "metadata": {},
   "outputs": [
    {
     "name": "stdout",
     "output_type": "stream",
     "text": [
      "Paro de trabalhar!\n"
     ]
    }
   ],
   "source": [
    "cafe = False\n",
    "trabalho = True\n",
    "if cafe and trabalho:\n",
    "    print(\"Trabalho normalmente!\")\n",
    "else:\n",
    "    print(\"Paro de trabalhar!\")"
   ]
  },
  {
   "cell_type": "code",
   "execution_count": 76,
   "metadata": {},
   "outputs": [
    {
     "name": "stdout",
     "output_type": "stream",
     "text": [
      "Manoela!\n"
     ]
    }
   ],
   "source": [
    "def minhaFuncao (word):\n",
    "    print(word + \"!\")\n",
    "\n",
    "minhaFuncao(\"Manoela\")"
   ]
  },
  {
   "cell_type": "code",
   "execution_count": 78,
   "metadata": {},
   "outputs": [
    {
     "name": "stdout",
     "output_type": "stream",
     "text": [
      "Manoela!\n"
     ]
    }
   ],
   "source": [
    "def minhaFuncao ():\n",
    "    print(\"Manoela!\")\n",
    "\n",
    "minhaFuncao()"
   ]
  },
  {
   "cell_type": "code",
   "execution_count": null,
   "metadata": {},
   "outputs": [],
   "source": [
    "def minhaFuncao()"
   ]
  }
 ],
 "metadata": {
  "kernelspec": {
   "display_name": "Python 3",
   "language": "python",
   "name": "python3"
  },
  "language_info": {
   "codemirror_mode": {
    "name": "ipython",
    "version": 3
   },
   "file_extension": ".py",
   "mimetype": "text/x-python",
   "name": "python",
   "nbconvert_exporter": "python",
   "pygments_lexer": "ipython3",
   "version": "3.11.3"
  },
  "orig_nbformat": 4
 },
 "nbformat": 4,
 "nbformat_minor": 2
}
